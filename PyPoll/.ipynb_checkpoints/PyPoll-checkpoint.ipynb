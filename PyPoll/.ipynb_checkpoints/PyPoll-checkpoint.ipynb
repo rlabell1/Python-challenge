{
 "cells": [
  {
   "cell_type": "code",
   "execution_count": null,
   "metadata": {},
   "outputs": [],
   "source": [
    "# Import Dependencies\n",
    "import os\n",
    "import csv"
   ]
  },
  {
   "cell_type": "code",
   "execution_count": 9,
   "metadata": {},
   "outputs": [
    {
     "name": "stdout",
     "output_type": "stream",
     "text": [
      "\n",
      "\n",
      "Election Results\n",
      "-------------------------\n",
      "Total Votes: 3521001\n",
      "-------------------------\n",
      "Khan: 63.000% (2218231)\n",
      "Correy: 20.000% (704200)\n",
      "Li: 14.000% (492940)\n",
      "O'Tooley: 3.000% (105630)\n",
      "-------------------------\n",
      "Winner: Khan\n",
      "-------------------------\n",
      "\n"
     ]
    }
   ],
   "source": [
    "# Files to load and output (Remember to change these)\n",
    "file_to_load = os.path.join('..', '..','..','02 - Homework', '03-Python', 'Instructions', 'PyPoll', 'Resources', 'election_data.csv')\n",
    "\n",
    "# Total Vote Counter\n",
    "total_votes = 0\n",
    "\n",
    "# Candidate Options and Vote Counters\n",
    "candidate_options = []\n",
    "candidate_votes = {}\n",
    "\n",
    "# Winning Candidate and Winning Count Tracker\n",
    "winning_candidate = \"\"\n",
    "winning_count = 0\n",
    "\n",
    "# Read the csv and convert it into a list of dictionaries\n",
    "with open(file_to_load) as election_data:\n",
    "    reader = csv.DictReader(election_data)\n",
    "\n",
    "    # For each row...\n",
    "    for row in reader:\n",
    "\n",
    "        # Add to the total vote count\n",
    "        total_votes = total_votes + 1\n",
    "\n",
    "        # Extract the candidate name from each row\n",
    "        candidate_name = row[\"Candidate\"]\n",
    "\n",
    "        # If the candidate does not match any existing candidate...\n",
    "        # (In a way, our loop is \"discovering\" candidates as it goes)\n",
    "        if candidate_name not in candidate_options:\n",
    "\n",
    "            # Add it to the list of candidates in the running\n",
    "            candidate_options.append(candidate_name)\n",
    "\n",
    "            # And begin tracking that candidate's voter count\n",
    "            candidate_votes[candidate_name] = 0\n",
    "\n",
    "        # Then add a vote to that candidate's count\n",
    "        candidate_votes[candidate_name] = candidate_votes[candidate_name] + 1\n",
    "\n",
    "# Print the results and export the data to our text file\n",
    "with open(file_to_load) as txt_file:\n",
    "\n",
    "    # Print the final vote count (to terminal)\n",
    "    election_results = (\n",
    "        f\"\\n\\nElection Results\\n\"\n",
    "        f\"-------------------------\\n\"\n",
    "        f\"Total Votes: {total_votes}\\n\"\n",
    "        f\"-------------------------\\n\")\n",
    "    print(election_results, end=\"\")\n",
    "\n",
    "    # Determine the winner by looping through the counts\n",
    "    for candidate in candidate_votes:\n",
    "\n",
    "        # Retrieve vote count and percentage\n",
    "        votes = candidate_votes.get(candidate)\n",
    "        vote_percentage = float(votes) / float(total_votes) * 100\n",
    "\n",
    "        # Determine winning vote count and candidate\n",
    "        if (votes > winning_count):\n",
    "            winning_count = votes\n",
    "            winning_candidate = candidate\n",
    "\n",
    "        # Print each candidate's voter count and percentage (to terminal)\n",
    "        voter_output = f\"{candidate}: {vote_percentage:.3f}% ({votes})\\n\"\n",
    "        print(voter_output, end=\"\")\n",
    "\n",
    "    # Print the winning candidate (to terminal)\n",
    "    winning_candidate_summary = (\n",
    "        f\"-------------------------\\n\"\n",
    "        f\"Winner: {winning_candidate}\\n\"\n",
    "        f\"-------------------------\\n\")\n",
    "    print(winning_candidate_summary)"
   ]
  },
  {
   "cell_type": "code",
   "execution_count": null,
   "metadata": {},
   "outputs": [],
   "source": []
  },
  {
   "cell_type": "code",
   "execution_count": null,
   "metadata": {},
   "outputs": [],
   "source": []
  },
  {
   "cell_type": "code",
   "execution_count": null,
   "metadata": {},
   "outputs": [],
   "source": []
  },
  {
   "cell_type": "code",
   "execution_count": null,
   "metadata": {},
   "outputs": [],
   "source": []
  },
  {
   "cell_type": "code",
   "execution_count": null,
   "metadata": {},
   "outputs": [],
   "source": []
  },
  {
   "cell_type": "code",
   "execution_count": null,
   "metadata": {},
   "outputs": [],
   "source": []
  },
  {
   "cell_type": "code",
   "execution_count": null,
   "metadata": {},
   "outputs": [],
   "source": []
  },
  {
   "cell_type": "code",
   "execution_count": null,
   "metadata": {},
   "outputs": [],
   "source": []
  },
  {
   "cell_type": "code",
   "execution_count": null,
   "metadata": {},
   "outputs": [],
   "source": []
  },
  {
   "cell_type": "code",
   "execution_count": null,
   "metadata": {},
   "outputs": [],
   "source": []
  }
 ],
 "metadata": {
  "kernelspec": {
   "display_name": "Python 3",
   "language": "python",
   "name": "python3"
  },
  "language_info": {
   "codemirror_mode": {
    "name": "ipython",
    "version": 3
   },
   "file_extension": ".py",
   "mimetype": "text/x-python",
   "name": "python",
   "nbconvert_exporter": "python",
   "pygments_lexer": "ipython3",
   "version": "3.7.3"
  }
 },
 "nbformat": 4,
 "nbformat_minor": 4
}
